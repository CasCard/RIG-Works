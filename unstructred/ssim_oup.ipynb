{
  "nbformat": 4,
  "nbformat_minor": 0,
  "metadata": {
    "colab": {
      "name": "Copy of Copy of video-1 mp4.ipynb",
      "provenance": [],
      "collapsed_sections": [],
      "include_colab_link": true
    },
    "kernelspec": {
      "name": "python3",
      "display_name": "Python 3"
    },
    "accelerator": "GPU"
  },
  "cells": [
    {
      "cell_type": "markdown",
      "metadata": {
        "id": "view-in-github",
        "colab_type": "text"
      },
      "source": [
        "<a href=\"https://colab.research.google.com/github/CasCard/RIG-Works/blob/main/ssim_oup.ipynb\" target=\"_parent\"><img src=\"https://colab.research.google.com/assets/colab-badge.svg\" alt=\"Open In Colab\"/></a>"
      ]
    },
    {
      "cell_type": "code",
      "metadata": {
        "id": "FpCfvfhySFSC"
      },
      "source": [
        "import tensorflow\n",
        "import keras\n",
        "import tensorflow.keras.backend as K\n",
        "from tensorflow.keras.layers import Dense ,Conv2D ,Conv2DTranspose ,Dropout ,BatchNormalization ,Input ,MaxPooling2D ,concatenate,UpSampling2D\n",
        "import numpy as np\n",
        "import cv2\n",
        "import matplotlib.pyplot as plt\n",
        "from tensorflow.keras.models import Model\n",
        "from google.colab import drive\n",
        "from tensorflow.keras.preprocessing.image import ImageDataGenerator\n",
        "import random\n",
        "import os\n",
        "from tensorflow.keras.optimizers import Adam\n",
        "from google.colab.patches import cv2_imshow"
      ],
      "execution_count": null,
      "outputs": []
    },
    {
      "cell_type": "code",
      "metadata": {
        "id": "IjHu69XJsh2R",
        "colab": {
          "base_uri": "https://localhost:8080/"
        },
        "outputId": "de554417-2d07-4daa-b460-3715e2cd2903"
      },
      "source": [
        "drive.mount('/content/gdrive')"
      ],
      "execution_count": null,
      "outputs": [
        {
          "output_type": "stream",
          "text": [
            "Mounted at /content/gdrive\n"
          ],
          "name": "stdout"
        }
      ]
    },
    {
      "cell_type": "code",
      "metadata": {
        "id": "CwjdpUcrGbcA"
      },
      "source": [
        "def conv_model(hidden_size = (256,256,3)):\r\n",
        "\r\n",
        "    input_layer = Input((256,256,3))\r\n",
        "    conv_1 = Conv2D(hidden_size * 1,(3,3),activation = \"relu\" ,padding = \"same\")(input_layer)\r\n",
        "    conv_1 = Conv2D(hidden_size * 1,(1,1),activation = \"relu\" ,strides=(2,2))(conv_1)\r\n",
        "\r\n",
        "    conv_2 = Conv2D(hidden_size * 2,(3,3),activation = \"relu\" ,padding = \"same\")(conv_1)\r\n",
        "    conv_2 = Conv2D(hidden_size * 2,(1,1),activation = \"relu\" ,strides=(2,2))(conv_2)\r\n",
        "\r\n",
        "    conv_3 = Conv2D(hidden_size * 4,(3,3),activation = \"relu\" ,padding = \"same\")(conv_2)\r\n",
        "    conv_3 = Conv2D(hidden_size * 4,(1,1),activation = \"relu\" ,strides=(2,2))(conv_3)\r\n",
        "\r\n",
        "    conv_4 = Conv2D(hidden_size * 8,(3,3),activation = \"relu\" ,padding = \"same\")(conv_3)\r\n",
        "    conv_4 = Conv2D(hidden_size * 8,(1,1),activation = \"relu\" ,strides=(2,2))(conv_4)\r\n",
        "\r\n",
        "    conv_m = Conv2D(hidden_size * 32,(3,3),activation = \"relu\" ,padding = \"same\")(conv_4)\r\n",
        "    conv_m = Conv2D(hidden_size * 32,(1,1),activation = \"relu\" ,strides=(2,2))(conv_m)\r\n",
        "\r\n",
        "    de_conv_4 = Conv2DTranspose(hidden_size * 8, (3, 3), strides=(2, 2), padding=\"same\")(conv_m)\r\n",
        "    de_conv_4 = concatenate([de_conv_4 , conv_4])\r\n",
        "    de_conv_4 = Conv2D(hidden_size * 8, (3, 3), activation=\"relu\", padding=\"same\")(de_conv_4)\r\n",
        "    de_conv_4 = Conv2D(hidden_size * 8, (3, 3), activation=\"relu\", padding=\"same\")(de_conv_4)\r\n",
        "\r\n",
        "    de_conv_3 = Conv2DTranspose(hidden_size * 4, (3, 3), strides=(2, 2), padding=\"same\")(de_conv_4)\r\n",
        "    de_conv_3 = concatenate([de_conv_3 , conv_3])\r\n",
        "    de_conv_3 = Conv2D(hidden_size * 4, (3, 3), activation=\"relu\", padding=\"same\")(de_conv_3)\r\n",
        "    de_conv_3 = Conv2D(hidden_size * 4 ,(3, 3), activation=\"relu\", padding=\"same\")(de_conv_3)\r\n",
        "\r\n",
        "    de_conv_2 = Conv2DTranspose(hidden_size * 2, (3, 3), strides=(2, 2), padding=\"same\")(de_conv_3)\r\n",
        "    de_conv_2 = concatenate([de_conv_2 , conv_2])\r\n",
        "    de_conv_2 = Conv2D(hidden_size * 2, (3, 3), activation=\"relu\", padding=\"same\")(de_conv_2)\r\n",
        "    de_conv_2 = Conv2D(hidden_size * 2, (3, 3), activation=\"relu\", padding=\"same\")(de_conv_2)\r\n",
        "\r\n",
        "    de_conv_1 = Conv2DTranspose(hidden_size * 2, (3, 3), strides=(2, 2), padding=\"same\")(de_conv_2)\r\n",
        "    #de_conv_1 = concatenate([de_conv_1 , conv_1])\r\n",
        "    de_conv_1 = Conv2D(hidden_size * 2, (3, 3), activation=\"relu\", padding=\"same\")(de_conv_1)\r\n",
        "    de_conv_1 = Conv2D(hidden_size * 2 ,(3, 3), activation=\"relu\", padding=\"same\")(de_conv_1)\r\n",
        "\r\n",
        "    output_layer = Conv2D(3, (1,1), padding=\"same\", activation=\"sigmoid\")(de_conv_1)\r\n",
        "\r\n",
        "    model = Model(inputs = [input_layer] ,outputs = [output_layer])\r\n",
        "    return model\r\n",
        "\r\n",
        "model = conv_model(32)\r\n"
      ],
      "execution_count": null,
      "outputs": []
    },
    {
      "cell_type": "code",
      "metadata": {
        "id": "7KIQlPGqGfIv"
      },
      "source": [
        "import tensorflow as tf\r\n",
        "def loss_fn(y_true,y_pred):\r\n",
        "    mae = tf.keras.losses.MeanAbsoluteError()\r\n",
        "    k = mae(y_true, y_pred)\r\n",
        "    k = (k/(256*256))\r\n",
        "    ssim = tf.image.ssim(y_true *255 , y_pred * 255, max_val = 255, filter_size=11, filter_sigma=1.5, k1=0.01, k2=0.03)\r\n",
        "    m = (1-ssim)/2\r\n",
        "    return ((0.3*k) + (0.7*m))\r\n",
        "model.compile(optimizer = Adam(lr = 0.0001),loss = loss_fn ,metrics = [tf.keras.metrics.MeanSquaredError()])\r\n"
      ],
      "execution_count": null,
      "outputs": []
    },
    {
      "cell_type": "code",
      "metadata": {
        "id": "H_DkCR0qGfC-"
      },
      "source": [
        "def get_result(image ,plot = True):\r\n",
        "\r\n",
        "    image = image.reshape((-1,256,256 ,3))\r\n",
        "    image_ = ((image/255.0))\r\n",
        "    raw_result = model.predict(image_)\r\n",
        "    result = raw_result.reshape((128,128,3))\r\n",
        "    result = 255*((result))\r\n",
        "    return result"
      ],
      "execution_count": null,
      "outputs": []
    },
    {
      "cell_type": "code",
      "metadata": {
        "id": "eQGmKr3SctuV"
      },
      "source": [
        "from google.colab.patches import cv2_imshow\n",
        "import cv2\n",
        "import numpy as np\n",
        "\n",
        "img1 =('/content/gdrive/My Drive/auv/InputImages/rod2.jpg')\n",
        "model.load_weights(\"/content/gdrive/My Drive/weights/enh_menco_0.3L1_0.7ssim_3c_oup.h5\")\n",
        "img = cv2.imread(img1)\n",
        "img = cv2.resize(img,(256,256))\n",
        "\n",
        "img_ = get_result(img ,plot = False)\n",
        "img_ = cv2.resize(img_,(256,256))\n",
        "cv2_imshow(img)\n",
        "cv2_imshow(img_)\n",
        "\n",
        " "
      ],
      "execution_count": null,
      "outputs": []
    },
    {
      "cell_type": "code",
      "metadata": {
        "id": "pZ-hG14NEOR_"
      },
      "source": [
        ""
      ],
      "execution_count": null,
      "outputs": []
    }
  ]
}