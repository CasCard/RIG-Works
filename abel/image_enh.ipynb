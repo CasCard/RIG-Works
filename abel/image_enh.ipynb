{
  "nbformat": 4,
  "nbformat_minor": 0,
  "metadata": {
    "colab": {
      "name": "Copy of image_procssing.ipynb",
      "provenance": [],
      "collapsed_sections": []
    },
    "kernelspec": {
      "name": "python3",
      "display_name": "Python 3"
    }
  },
  "cells": [
    {
      "cell_type": "code",
      "metadata": {
        "id": "_UyBnwKi2NqJ"
      },
      "source": [
        "import numpy as np\n",
        "import cv2\n",
        "from google.colab import drive\n",
        "from google.colab.patches import cv2_imshow"
      ],
      "execution_count": 12,
      "outputs": []
    },
    {
      "cell_type": "code",
      "metadata": {
        "id": "HM6d0z1yHUtS"
      },
      "source": [
        "import numba\n",
        "from numba import vectorize,njit,jit"
      ],
      "execution_count": 13,
      "outputs": []
    },
    {
      "cell_type": "code",
      "metadata": {
        "id": "-C3oOVoB1UFY",
        "colab": {
          "base_uri": "https://localhost:8080/"
        },
        "outputId": "478cb1b9-a0b5-4405-8330-12c12520825b"
      },
      "source": [
        "drive.mount('/content/gdrive', force_remount=True)\n"
      ],
      "execution_count": 14,
      "outputs": [
        {
          "output_type": "stream",
          "text": [
            "Mounted at /content/gdrive\n"
          ],
          "name": "stdout"
        }
      ]
    },
    {
      "cell_type": "code",
      "metadata": {
        "id": "FQUVBe7RRytY"
      },
      "source": [
        "video1 = '/content/gdrive/My Drive/auv_files/redrodtrim.mp4'"
      ],
      "execution_count": 15,
      "outputs": []
    },
    {
      "cell_type": "code",
      "metadata": {
        "id": "JXFgdlvESRem"
      },
      "source": [
        ""
      ],
      "execution_count": 15,
      "outputs": []
    },
    {
      "cell_type": "code",
      "metadata": {
        "id": "aXYuuejyzIMN"
      },
      "source": [
        "import cv2\n",
        "from skimage.color import rgb2hsv,hsv2rgb\n",
        "import numpy as np\n",
        "\n",
        "def  HSVStretching(sceneRadiance):\n",
        "    sceneRadiance = np.uint8(sceneRadiance)\n",
        "    height = len(sceneRadiance)\n",
        "    width = len(sceneRadiance[0])\n",
        "    img_hsv = rgb2hsv(sceneRadiance)\n",
        "    h, s, v = cv2.split(img_hsv)\n",
        "    img_s_stretching = global_stretching(s, height, width)\n",
        "    img_v_stretching = global_stretching(v, height, width)\n",
        "\n",
        "    labArray = np.zeros((height, width, 3), 'float64')\n",
        "    labArray[:, :, 0] = h\n",
        "    labArray[:, :, 1] = img_s_stretching\n",
        "    labArray[:, :, 2] = img_v_stretching\n",
        "    img_rgb = hsv2rgb(labArray) * 255\n",
        "\n",
        "    # img_rgb = np.clip(img_rgb, 0, 255)\n",
        "\n",
        "    return img_rgb"
      ],
      "execution_count": 16,
      "outputs": []
    },
    {
      "cell_type": "code",
      "metadata": {
        "id": "m6_r3zK2zJiV"
      },
      "source": [
        "import numpy as np\n",
        "\n",
        "def sceneRadianceRGB(sceneRadiance):\n",
        "\n",
        "    sceneRadiance = np.clip(sceneRadiance, 0, 255)\n",
        "    sceneRadiance = np.uint8(sceneRadiance)\n",
        "\n",
        "    return sceneRadiance\n",
        "\n"
      ],
      "execution_count": 17,
      "outputs": []
    },
    {
      "cell_type": "code",
      "metadata": {
        "id": "9g5HQPECzJmA"
      },
      "source": [
        "import numpy as np\n",
        "\n",
        "def global_stretching(img_L,height, width):\n",
        "    I_min = np.min(img_L)\n",
        "    I_max = np.max(img_L)\n",
        "    I_mean = np.mean(img_L)\n",
        "\n",
        "    array_Global_histogram_stretching_L = np.zeros((height, width))\n",
        "    for i in range(0, height):\n",
        "        for j in range(0, width):\n",
        "            p_out = (img_L[i][j] - I_min) * ((1) / (I_max - I_min))\n",
        "            array_Global_histogram_stretching_L[i][j] = p_out\n",
        "\n",
        "    return array_Global_histogram_stretching_L\n",
        "\n"
      ],
      "execution_count": 18,
      "outputs": []
    },
    {
      "cell_type": "code",
      "metadata": {
        "id": "KYxk7tL80PW3"
      },
      "source": [
        "import numpy as np\n",
        "import concurrent.futures\n",
        "import copy\n",
        "import time\n",
        "\n",
        "\n",
        "def histogram_r(r_array,height, width):\n",
        "    length = height * width\n",
        "    \n",
        "    R_rray=np.zeros(r_array.shape)\n",
        "    R_rray = np.copy(r_array)\n",
        "    R_rray=R_rray.flatten()\n",
        "    R_rray.sort()\n",
        "\n",
        "    I_min = int(R_rray[int(length / 500)])\n",
        "    I_max = int(R_rray[-int(length / 500)])\n",
        "    array_Global_histogram_stretching = np.zeros((height, width))\n",
        "    for i in range(0, height):\n",
        "        for j in range(0, width):\n",
        "            if r_array[i][j] < I_min:\n",
        "                # p_out = r_array[i][j]\n",
        "                array_Global_histogram_stretching[i][j] = I_min\n",
        "            elif (r_array[i][j] > I_max):\n",
        "                p_out = r_array[i][j]\n",
        "                array_Global_histogram_stretching[i][j] = 255\n",
        "            else:\n",
        "                p_out = int((r_array[i][j] - I_min) * ((255 - I_min) / (I_max - I_min)))+ I_min\n",
        "                array_Global_histogram_stretching[i][j] = p_out\n",
        "    return (array_Global_histogram_stretching)\n",
        "\n",
        "def histogram_g(r_array,height, width):\n",
        "    length = height * width\n",
        "   \n",
        "\n",
        "    R_rray=np.zeros(r_array.shape)\n",
        "    R_rray = np.copy(r_array)\n",
        "    R_rray=R_rray.flatten()\n",
        "    R_rray.sort()\n",
        "\n",
        "    I_min = int(R_rray[int(length / 500)])\n",
        "    I_max = int(R_rray[-int(length / 500)])\n",
        "    array_Global_histogram_stretching = np.zeros((height, width))\n",
        "    for i in range(0, height):\n",
        "        for j in range(0, width):\n",
        "            if r_array[i][j] < I_min:\n",
        "                p_out = r_array[i][j]\n",
        "                array_Global_histogram_stretching[i][j] = 0\n",
        "            elif (r_array[i][j] > I_max):\n",
        "                p_out = r_array[i][j]\n",
        "                array_Global_histogram_stretching[i][j] = 255\n",
        "            else:\n",
        "                p_out = int((r_array[i][j] - I_min) * ((255) / (I_max - I_min)) )\n",
        "                array_Global_histogram_stretching[i][j] = p_out\n",
        "    return (array_Global_histogram_stretching)\n",
        "\n",
        "def histogram_b(r_array,height, width):\n",
        "    length = height * width\n",
        "\n",
        "\n",
        "    R_rray=np.zeros(r_array.shape)\n",
        "    R_rray = np.copy(r_array)\n",
        "    R_rray=R_rray.flatten()\n",
        "    R_rray.sort()\n",
        "    \n",
        "    I_min = int(R_rray[int(length / 500)])\n",
        "    I_max = int(R_rray[-int(length / 500)])\n",
        "    array_Global_histogram_stretching = np.zeros((height, width))\n",
        "    for i in range(0, height):\n",
        "        for j in range(0, width):\n",
        "            if r_array[i][j] < I_min:\n",
        "                # p_out = r_array[i][j]\n",
        "                array_Global_histogram_stretching[i][j] = 0\n",
        "            elif (r_array[i][j] > I_max):\n",
        "                # p_out = r_array[i][j]\n",
        "                array_Global_histogram_stretching[i][j] = I_max\n",
        "            else:\n",
        "                p_out = int((r_array[i][j] - I_min) * ((I_max) / (I_max - I_min)))\n",
        "                array_Global_histogram_stretching[i][j] = p_out\n",
        "    return (array_Global_histogram_stretching)\n",
        "\n",
        "def stretching(img):\n",
        "    height = len(img)\n",
        "    width = len(img[0])\n",
        "    img[:, :, 2] = np.array(histogram_r(img[:, :, 2], height, width))\n",
        "    img[:, :, 1] = np.array(histogram_g(img[:, :, 1], height, width))\n",
        "    img[:, :, 0] = np.array(histogram_b(img[:, :, 0], height, width))\n",
        "      \n",
        "    return img\n",
        "\n",
        "\n"
      ],
      "execution_count": 19,
      "outputs": []
    },
    {
      "cell_type": "code",
      "metadata": {
        "id": "WTaTf1Cz0Piu"
      },
      "source": [
        "import numpy as np\n",
        "\n",
        "def cal_equalisation(img,ratio):\n",
        "    Array = img * ratio\n",
        "    Array = np.clip(Array, 0, 255)\n",
        "    return Array\n",
        "\n",
        "\n",
        "def RGB_equalisation(img):\n",
        "    i =0\n",
        "    img = np.float32(img)\n",
        "    avg_RGB = []\n",
        "    for i in range(3):\n",
        "        avg = np.mean(img[:,:,i])\n",
        "        avg_RGB.append(avg)\n",
        "    # print('avg_RGB',avg_RGB)\n",
        "    a_r = avg_RGB[0]/avg_RGB[2]\n",
        "    a_g =  avg_RGB[0]/avg_RGB[1]\n",
        "    ratio = [0,a_g,a_r]\n",
        "    for i in range(1,3):\n",
        "        img[:,:,i] = cal_equalisation(img[:,:,i],ratio[i])\n",
        "    return img\n",
        "\n",
        "\n",
        "\n",
        "\n"
      ],
      "execution_count": 20,
      "outputs": []
    },
    {
      "cell_type": "code",
      "metadata": {
        "id": "RVZTbjozyWBD",
        "colab": {
          "base_uri": "https://localhost:8080/",
          "height": 522
        },
        "outputId": "1afd08db-9a34-4702-c4d0-d08898f9f7f3"
      },
      "source": [
        "import os\n",
        "import numpy as np\n",
        "import cv2\n",
        "import natsort\n",
        "import xlwt\n",
        "import datetime\n",
        "\n",
        "\n",
        "np.seterr(over='ignore')\n",
        "if __name__ == '__main__':\n",
        "    pass\n",
        "\n",
        "folder = \"/content/gdrive/My Drive\"\n",
        "\n",
        "# path = sett\n",
        "pathinp = folder + \"/auv_files/test_images\"\n",
        "pathout = folder + \"/auv_files/out_test_images\"\n",
        "filesinp = os.listdir(pathinp)\n",
        "filesoup = os.listdir(pathout)\n",
        "length = len(filesinp)\n",
        "for i in range(length):\n",
        "    imginp = filesinp[i]\n",
        "    imgdir = pathinp + \"/\" + imginp\n",
        "    # print(filesinp[i])\n",
        "    print('********    file   ********',imgdir)\n",
        "    # img = cv2.imread('InputImages/' + file)\n",
        "    import timeit\n",
        "    start = timeit.default_timer()\n",
        "    img = cv2.imread(imgdir)\n",
        "    print(len(img))\n",
        "    #img = cv2.resize(img,(256,256))\n",
        "    #cv2_imshow(img)\n",
        "    sceneRadiance = RGB_equalisation(img)\n",
        "    sceneRadiance = stretching(sceneRadiance)\n",
        "    # # cv2.imwrite(folder + '/OutputImages/' + Number + 'Stretched.jpg', sceneRadiance)\n",
        "    sceneRadiance = HSVStretching(sceneRadiance)\n",
        "    sceneRadiance = sceneRadianceRGB(sceneRadiance)\n",
        "    cv2.imwrite('/content/gdrive/My Drive/auv_files/out_test_images/'+ \"oup\" + imginp,sceneRadiance)\n",
        "    #cv2_imshow(sceneRadiance)\n",
        "    stop = timeit.default_timer()\n",
        "    print('Time: ', stop - start)  \n",
        "\n"
      ],
      "execution_count": 21,
      "outputs": [
        {
          "output_type": "stream",
          "text": [
            "********    file   ******** /content/gdrive/My Drive/auv_files/test_images/rod4.jpg\n",
            "1080\n",
            "0.023601055145263672\n",
            "Time:  68.50577573100003\n",
            "********    file   ******** /content/gdrive/My Drive/auv_files/test_images/rod3.jpg\n",
            "1080\n",
            "0.015539884567260742\n"
          ],
          "name": "stdout"
        },
        {
          "output_type": "error",
          "ename": "KeyboardInterrupt",
          "evalue": "ignored",
          "traceback": [
            "\u001b[0;31m---------------------------------------------------------------------------\u001b[0m",
            "\u001b[0;31mKeyboardInterrupt\u001b[0m                         Traceback (most recent call last)",
            "\u001b[0;32m<ipython-input-21-82ebdfb9a506>\u001b[0m in \u001b[0;36m<module>\u001b[0;34m()\u001b[0m\n\u001b[1;32m     32\u001b[0m     \u001b[0;31m#cv2_imshow(img)\u001b[0m\u001b[0;34m\u001b[0m\u001b[0;34m\u001b[0m\u001b[0;34m\u001b[0m\u001b[0m\n\u001b[1;32m     33\u001b[0m     \u001b[0msceneRadiance\u001b[0m \u001b[0;34m=\u001b[0m \u001b[0mRGB_equalisation\u001b[0m\u001b[0;34m(\u001b[0m\u001b[0mimg\u001b[0m\u001b[0;34m)\u001b[0m\u001b[0;34m\u001b[0m\u001b[0;34m\u001b[0m\u001b[0m\n\u001b[0;32m---> 34\u001b[0;31m     \u001b[0msceneRadiance\u001b[0m \u001b[0;34m=\u001b[0m \u001b[0mstretching\u001b[0m\u001b[0;34m(\u001b[0m\u001b[0msceneRadiance\u001b[0m\u001b[0;34m)\u001b[0m\u001b[0;34m\u001b[0m\u001b[0;34m\u001b[0m\u001b[0m\n\u001b[0m\u001b[1;32m     35\u001b[0m     \u001b[0;31m# # cv2.imwrite(folder + '/OutputImages/' + Number + 'Stretched.jpg', sceneRadiance)\u001b[0m\u001b[0;34m\u001b[0m\u001b[0;34m\u001b[0m\u001b[0;34m\u001b[0m\u001b[0m\n\u001b[1;32m     36\u001b[0m     \u001b[0msceneRadiance\u001b[0m \u001b[0;34m=\u001b[0m \u001b[0mHSVStretching\u001b[0m\u001b[0;34m(\u001b[0m\u001b[0msceneRadiance\u001b[0m\u001b[0;34m)\u001b[0m\u001b[0;34m\u001b[0m\u001b[0;34m\u001b[0m\u001b[0m\n",
            "\u001b[0;32m<ipython-input-19-8f05e441a988>\u001b[0m in \u001b[0;36mstretching\u001b[0;34m(img)\u001b[0m\n\u001b[1;32m     92\u001b[0m     \u001b[0mheight\u001b[0m \u001b[0;34m=\u001b[0m \u001b[0mlen\u001b[0m\u001b[0;34m(\u001b[0m\u001b[0mimg\u001b[0m\u001b[0;34m)\u001b[0m\u001b[0;34m\u001b[0m\u001b[0;34m\u001b[0m\u001b[0m\n\u001b[1;32m     93\u001b[0m     \u001b[0mwidth\u001b[0m \u001b[0;34m=\u001b[0m \u001b[0mlen\u001b[0m\u001b[0;34m(\u001b[0m\u001b[0mimg\u001b[0m\u001b[0;34m[\u001b[0m\u001b[0;36m0\u001b[0m\u001b[0;34m]\u001b[0m\u001b[0;34m)\u001b[0m\u001b[0;34m\u001b[0m\u001b[0;34m\u001b[0m\u001b[0m\n\u001b[0;32m---> 94\u001b[0;31m     \u001b[0mimg\u001b[0m\u001b[0;34m[\u001b[0m\u001b[0;34m:\u001b[0m\u001b[0;34m,\u001b[0m \u001b[0;34m:\u001b[0m\u001b[0;34m,\u001b[0m \u001b[0;36m2\u001b[0m\u001b[0;34m]\u001b[0m \u001b[0;34m=\u001b[0m \u001b[0mnp\u001b[0m\u001b[0;34m.\u001b[0m\u001b[0marray\u001b[0m\u001b[0;34m(\u001b[0m\u001b[0mhistogram_r\u001b[0m\u001b[0;34m(\u001b[0m\u001b[0mimg\u001b[0m\u001b[0;34m[\u001b[0m\u001b[0;34m:\u001b[0m\u001b[0;34m,\u001b[0m \u001b[0;34m:\u001b[0m\u001b[0;34m,\u001b[0m \u001b[0;36m2\u001b[0m\u001b[0;34m]\u001b[0m\u001b[0;34m,\u001b[0m \u001b[0mheight\u001b[0m\u001b[0;34m,\u001b[0m \u001b[0mwidth\u001b[0m\u001b[0;34m)\u001b[0m\u001b[0;34m)\u001b[0m\u001b[0;34m\u001b[0m\u001b[0;34m\u001b[0m\u001b[0m\n\u001b[0m\u001b[1;32m     95\u001b[0m     \u001b[0mimg\u001b[0m\u001b[0;34m[\u001b[0m\u001b[0;34m:\u001b[0m\u001b[0;34m,\u001b[0m \u001b[0;34m:\u001b[0m\u001b[0;34m,\u001b[0m \u001b[0;36m1\u001b[0m\u001b[0;34m]\u001b[0m \u001b[0;34m=\u001b[0m \u001b[0mnp\u001b[0m\u001b[0;34m.\u001b[0m\u001b[0marray\u001b[0m\u001b[0;34m(\u001b[0m\u001b[0mhistogram_g\u001b[0m\u001b[0;34m(\u001b[0m\u001b[0mimg\u001b[0m\u001b[0;34m[\u001b[0m\u001b[0;34m:\u001b[0m\u001b[0;34m,\u001b[0m \u001b[0;34m:\u001b[0m\u001b[0;34m,\u001b[0m \u001b[0;36m1\u001b[0m\u001b[0;34m]\u001b[0m\u001b[0;34m,\u001b[0m \u001b[0mheight\u001b[0m\u001b[0;34m,\u001b[0m \u001b[0mwidth\u001b[0m\u001b[0;34m)\u001b[0m\u001b[0;34m)\u001b[0m\u001b[0;34m\u001b[0m\u001b[0;34m\u001b[0m\u001b[0m\n\u001b[1;32m     96\u001b[0m     \u001b[0mimg\u001b[0m\u001b[0;34m[\u001b[0m\u001b[0;34m:\u001b[0m\u001b[0;34m,\u001b[0m \u001b[0;34m:\u001b[0m\u001b[0;34m,\u001b[0m \u001b[0;36m0\u001b[0m\u001b[0;34m]\u001b[0m \u001b[0;34m=\u001b[0m \u001b[0mnp\u001b[0m\u001b[0;34m.\u001b[0m\u001b[0marray\u001b[0m\u001b[0;34m(\u001b[0m\u001b[0mhistogram_b\u001b[0m\u001b[0;34m(\u001b[0m\u001b[0mimg\u001b[0m\u001b[0;34m[\u001b[0m\u001b[0;34m:\u001b[0m\u001b[0;34m,\u001b[0m \u001b[0;34m:\u001b[0m\u001b[0;34m,\u001b[0m \u001b[0;36m0\u001b[0m\u001b[0;34m]\u001b[0m\u001b[0;34m,\u001b[0m \u001b[0mheight\u001b[0m\u001b[0;34m,\u001b[0m \u001b[0mwidth\u001b[0m\u001b[0;34m)\u001b[0m\u001b[0;34m)\u001b[0m\u001b[0;34m\u001b[0m\u001b[0;34m\u001b[0m\u001b[0m\n",
            "\u001b[0;32m<ipython-input-19-8f05e441a988>\u001b[0m in \u001b[0;36mhistogram_r\u001b[0;34m(r_array, height, width)\u001b[0m\n\u001b[1;32m     29\u001b[0m     \u001b[0;32mfor\u001b[0m \u001b[0mi\u001b[0m \u001b[0;32min\u001b[0m \u001b[0mrange\u001b[0m\u001b[0;34m(\u001b[0m\u001b[0;36m0\u001b[0m\u001b[0;34m,\u001b[0m \u001b[0mheight\u001b[0m\u001b[0;34m)\u001b[0m\u001b[0;34m:\u001b[0m\u001b[0;34m\u001b[0m\u001b[0;34m\u001b[0m\u001b[0m\n\u001b[1;32m     30\u001b[0m         \u001b[0;32mfor\u001b[0m \u001b[0mj\u001b[0m \u001b[0;32min\u001b[0m \u001b[0mrange\u001b[0m\u001b[0;34m(\u001b[0m\u001b[0;36m0\u001b[0m\u001b[0;34m,\u001b[0m \u001b[0mwidth\u001b[0m\u001b[0;34m)\u001b[0m\u001b[0;34m:\u001b[0m\u001b[0;34m\u001b[0m\u001b[0;34m\u001b[0m\u001b[0m\n\u001b[0;32m---> 31\u001b[0;31m             \u001b[0;32mif\u001b[0m \u001b[0mr_array\u001b[0m\u001b[0;34m[\u001b[0m\u001b[0mi\u001b[0m\u001b[0;34m]\u001b[0m\u001b[0;34m[\u001b[0m\u001b[0mj\u001b[0m\u001b[0;34m]\u001b[0m \u001b[0;34m<\u001b[0m \u001b[0mI_min\u001b[0m\u001b[0;34m:\u001b[0m\u001b[0;34m\u001b[0m\u001b[0;34m\u001b[0m\u001b[0m\n\u001b[0m\u001b[1;32m     32\u001b[0m                 \u001b[0;31m# p_out = r_array[i][j]\u001b[0m\u001b[0;34m\u001b[0m\u001b[0;34m\u001b[0m\u001b[0;34m\u001b[0m\u001b[0m\n\u001b[1;32m     33\u001b[0m                 \u001b[0marray_Global_histogram_stretching\u001b[0m\u001b[0;34m[\u001b[0m\u001b[0mi\u001b[0m\u001b[0;34m]\u001b[0m\u001b[0;34m[\u001b[0m\u001b[0mj\u001b[0m\u001b[0;34m]\u001b[0m \u001b[0;34m=\u001b[0m \u001b[0mI_min\u001b[0m\u001b[0;34m\u001b[0m\u001b[0;34m\u001b[0m\u001b[0m\n",
            "\u001b[0;31mKeyboardInterrupt\u001b[0m: "
          ]
        }
      ]
    },
    {
      "cell_type": "code",
      "metadata": {
        "id": "rRxgnKJ1mCGn"
      },
      "source": [
        ""
      ],
      "execution_count": null,
      "outputs": []
    },
    {
      "cell_type": "code",
      "metadata": {
        "id": "VEl1OMp3mCV-"
      },
      "source": [
        ""
      ],
      "execution_count": null,
      "outputs": []
    },
    {
      "cell_type": "code",
      "metadata": {
        "id": "SQi8XapZmCbJ"
      },
      "source": [
        ""
      ],
      "execution_count": null,
      "outputs": []
    },
    {
      "cell_type": "code",
      "metadata": {
        "id": "0Jtuc5xpmCea"
      },
      "source": [
        ""
      ],
      "execution_count": null,
      "outputs": []
    },
    {
      "cell_type": "code",
      "metadata": {
        "id": "MwTmM1RRmChy"
      },
      "source": [
        ""
      ],
      "execution_count": null,
      "outputs": []
    },
    {
      "cell_type": "code",
      "metadata": {
        "id": "dtB9OVcWXpVC"
      },
      "source": [
        "import os\n",
        "import numpy as np\n",
        "import cv2\n",
        "import natsort\n",
        "import xlwt\n",
        "import datetime\n",
        "import timeit\n",
        "\n",
        "folder = \"/content/gdrive/My Drive\"\n",
        "pathinp = folder + \"/auv_files/test_images\"\n",
        "pathout = folder + \"/auv_files/out_test_images\"\n",
        "filesinp = os.listdir(pathinp)\n",
        "filesoup = os.listdir(pathout)\n",
        "length = len(filesinp)\n",
        "print(filesinp)"
      ],
      "execution_count": null,
      "outputs": []
    },
    {
      "cell_type": "code",
      "metadata": {
        "id": "KTe3vrFfXFNz"
      },
      "source": [
        "starti = timeit.default_timer()\n",
        "def process_image(imginp):\n",
        "  imgdir = pathinp + \"/\" + imginp\n",
        "  img = cv2.imread(imgdir)\n",
        "\n",
        "  start = timeit.default_timer()\n",
        "  sceneRadiance = RGB_equalisation(img)\n",
        "  stop = timeit.default_timer()\n",
        "  print('RGB_equalisation: ', stop - start)\n",
        "\n",
        "  start = timeit.default_timer()\n",
        "  sceneRadiance = stretching(sceneRadiance)\n",
        "  stop = timeit.default_timer()\n",
        "  print('stretching: ', stop - start)\n",
        "\n",
        "  start = timeit.default_timer()\n",
        "  sceneRadiance = HSVStretching(sceneRadiance)\n",
        "  stop = timeit.default_timer()\n",
        "  print('HSVStretching: ', stop - start)\n",
        "\n",
        "  start = timeit.default_timer()\n",
        "  sceneRadiance = sceneRadianceRGB(sceneRadiance)\n",
        "  stop = timeit.default_timer()\n",
        "  print('sceneRadianceRGB: ', stop - start)\n",
        "  return sceneRadiance\n",
        "\n",
        "i=0\n",
        "with concurrent.futures.ProcessPoolExecutor() as executor:\n",
        "  results=executor.map(process_image,filesinp)\n",
        "  for result in results:\n",
        "    cv2.imwrite('/content/gdrive/My Drive/auv_files/out_test_images/'+ str(i) +'.jpg',result)\n",
        "    i=i+1\n",
        "\n",
        "stopi = timeit.default_timer()\n",
        "print('Time: ', stopi - starti) \n"
      ],
      "execution_count": null,
      "outputs": []
    },
    {
      "cell_type": "code",
      "metadata": {
        "id": "Kl9hX7z2X9Zp"
      },
      "source": [
        ""
      ],
      "execution_count": null,
      "outputs": []
    },
    {
      "cell_type": "code",
      "metadata": {
        "id": "cwMBubEpV6Wr"
      },
      "source": [
        "# cap = cv2.VideoCapture(video1)\n",
        "# ret,frame=cap.read()\n",
        "# count=0\n",
        "# out = cv2.VideoWriter('/content/gdrive/My Drive/auv_files/output.avi',cv2.VideoWriter_fourcc('M','J','P','G'), 25, (frame.shape[1], frame.shape[0]))\n",
        "# while cap.isOpened():\n",
        "#     import timeit\n",
        "#     starti = timeit.default_timer()\n",
        "#     ret, frame = cap.read()\n",
        "\n",
        "#     # check for successfulness of cap.read()\n",
        "#     if not ret: break\n",
        "#     start = timeit.default_timer()\n",
        "#     sceneRadiance = RGB_equalisation(frame)\n",
        "#     stop = timeit.default_timer()\n",
        "#     print('RGB_equalisation: ', stop - start ,count)\n",
        "\n",
        "#     start = timeit.default_timer()\n",
        "#     sceneRadiance = stretching(sceneRadiance)\n",
        "#     stop = timeit.default_timer()\n",
        "#     print('stretching ', stop - start ,count)\n",
        "#     # # cv2.imwrite(folder + '/OutputImages/' + Number + 'Stretched.jpg', sceneRadiance)\n",
        "#     start = timeit.default_timer()\n",
        "#     sceneRadiance = HSVStretching(sceneRadiance)\n",
        "#     stop = timeit.default_timer()\n",
        "#     print('HSVStretching: ', stop - start ,count)\n",
        "\n",
        "#     start = timeit.default_timer()\n",
        "#     sceneRadiance = sceneRadianceRGB(sceneRadiance)\n",
        "#     stop = timeit.default_timer()\n",
        "#     print('sceneRadianceRGB: ', stop - start ,count)\n",
        "#     # Save the video\n",
        "#     out.write(sceneRadiance)\n",
        "#     stopi = timeit.default_timer()\n",
        "#     print('Time per image ', stopi - starti ,count)\n",
        "    # cv2_imshow(image) # Note cv2_imshow, not cv2.imshow\n",
        "\n",
        "    # cv2.waitKey()\n",
        "\n",
        "# cv2.destroyAllWindows()\n",
        "# cap.release()\n",
        "# out.release()"
      ],
      "execution_count": null,
      "outputs": []
    },
    {
      "cell_type": "code",
      "metadata": {
        "id": "dLJp3RX1XCm4"
      },
      "source": [
        "import os\n",
        "import numpy as np\n",
        "import cv2\n",
        "import natsort\n",
        "import xlwt\n",
        "import datetime\n",
        "\n",
        "np.seterr(over='ignore')\n",
        "if __name__ == '__main__':\n",
        "    pass\n",
        "\n",
        "\n",
        "cap = cv2.VideoCapture(video1)\n",
        "ret,frame=cap.read()\n",
        "count=0\n",
        "frames=[]\n",
        "out = cv2.VideoWriter('/content/gdrive/My Drive/auv_files/output.avi',cv2.VideoWriter_fourcc('M','J','P','G'), 10, (frame.shape[1], frame.shape[0]))\n",
        "while cap.isOpened():\n",
        "    # import timeit\n",
        "    # starti = timeit.default_timer()\n",
        "    ret, frame = cap.read()\n",
        "    if ret:\n",
        "      frames.append(frame)\n",
        "    if not ret: break\n",
        "\n",
        "cap.release()\n",
        "print(len(frames))\n",
        "# out.release()"
      ],
      "execution_count": null,
      "outputs": []
    },
    {
      "cell_type": "code",
      "metadata": {
        "id": "Wx0k9fb7bxjr"
      },
      "source": [
        "# check for successfulness of cap.read()\n",
        "starti = timeit.default_timer()\n",
        "def process_image(img_frame):\n",
        "    start = timeit.default_timer()\n",
        "    sceneRadiance = RGB_equalisation(img_frame)\n",
        "    stop = timeit.default_timer()\n",
        "    print('RGB_equalisation: ', stop - start ,count)\n",
        "\n",
        "    start = timeit.default_timer()\n",
        "    sceneRadiance = stretching(sceneRadiance)\n",
        "    stop = timeit.default_timer()\n",
        "    print('stretching ', stop - start ,count)\n",
        "    # # cv2.imwrite(folder + '/OutputImages/' + Number + 'Stretched.jpg', sceneRadiance)\n",
        "    start = timeit.default_timer()\n",
        "    sceneRadiance = HSVStretching(sceneRadiance)\n",
        "    stop = timeit.default_timer()\n",
        "    print('HSVStretching: ', stop - start ,count)\n",
        "\n",
        "    start = timeit.default_timer()\n",
        "    sceneRadiance = sceneRadianceRGB(sceneRadiance)\n",
        "    stop = timeit.default_timer()\n",
        "    print('sceneRadianceRGB: ', stop - start ,count)\n",
        "    # Save the video\n",
        "    # out.write(sceneRadiance)\n",
        "    \n",
        "    return sceneRadiance \n",
        "\n",
        "\n",
        "with concurrent.futures.ProcessPoolExecutor() as executor:\n",
        "  results=executor.map(process_image,frames)\n",
        "  for result in results:\n",
        "    out.write(result)\n",
        "out.release()\n",
        "stopi = timeit.default_timer()\n",
        "print('Time per image ', stopi - starti)"
      ],
      "execution_count": null,
      "outputs": []
    },
    {
      "cell_type": "code",
      "metadata": {
        "id": "i4oCLEhz8KuS"
      },
      "source": [
        "import numba"
      ],
      "execution_count": null,
      "outputs": []
    },
    {
      "cell_type": "code",
      "metadata": {
        "id": "60nP_cZ5K-g-"
      },
      "source": [
        ""
      ],
      "execution_count": null,
      "outputs": []
    }
  ]
}